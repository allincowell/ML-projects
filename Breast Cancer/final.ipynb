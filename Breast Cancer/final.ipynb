{
 "cells": [
  {
   "cell_type": "markdown",
   "metadata": {},
   "source": [
    "# Importing libraries"
   ]
  },
  {
   "cell_type": "code",
   "execution_count": 1,
   "metadata": {},
   "outputs": [],
   "source": [
    "import numpy as np\n",
    "import pandas as pd\n",
    "\n",
    "import matplotlib.pyplot as plt\n",
    "\n",
    "import random\n",
    "from pprint import pprint\n",
    "\n",
    "%matplotlib inline"
   ]
  },
  {
   "cell_type": "code",
   "execution_count": 2,
   "metadata": {},
   "outputs": [],
   "source": [
    "# change this variable to change the maximum depth of the decision tree formed\n",
    "MAX_DEPTH = 5"
   ]
  },
  {
   "cell_type": "markdown",
   "metadata": {},
   "source": [
    "# Dataset splitting"
   ]
  },
  {
   "cell_type": "code",
   "execution_count": 3,
   "metadata": {},
   "outputs": [],
   "source": [
    "#function to split the dataframe into train, cross-validation and test set\n",
    "def train_cv_test_split(df, train_size, cv_size):\n",
    "    n = len(df.index)\n",
    "    \n",
    "    train_size = (int)(n * train_size / 100)\n",
    "    cv_size = (int)(n * cv_size / 100)\n",
    "    \n",
    "    indices = df.index.tolist()\n",
    "    train_indices = random.sample(population = indices, k = train_size)\n",
    "    \n",
    "    train_set = df.loc[train_indices]\n",
    "    df = df.drop(train_indices)\n",
    "    \n",
    "    indices = df.index.tolist()\n",
    "    cv_indices = random.sample(population = indices, k = cv_size)\n",
    "    \n",
    "    cv_set = df.loc[cv_indices]\n",
    "    test_set = df.drop(cv_indices)\n",
    "    \n",
    "    return train_set, cv_set, test_set"
   ]
  },
  {
   "cell_type": "markdown",
   "metadata": {},
   "source": [
    "# Helper functions for building the decision tree "
   ]
  },
  {
   "cell_type": "code",
   "execution_count": 4,
   "metadata": {},
   "outputs": [],
   "source": [
    "#function to check if all the data points belong to a single class\n",
    "def check_purity(data):\n",
    "    \n",
    "    label_column = data[:, -1]\n",
    "    unique_classes = np.unique(label_column)\n",
    "\n",
    "    if len(unique_classes) == 1:\n",
    "        return True\n",
    "    else:\n",
    "        return False"
   ]
  },
  {
   "cell_type": "code",
   "execution_count": 5,
   "metadata": {},
   "outputs": [],
   "source": [
    "#function to return the majority class in a dataframe\n",
    "def classify_data(data):\n",
    "    \n",
    "    label_column = data[:, -1]\n",
    "    unique_classes, counts_unique_classes = np.unique(label_column, return_counts = True)\n",
    "\n",
    "    index = counts_unique_classes.argmax()\n",
    "    classification = unique_classes[index]\n",
    "    \n",
    "    return classification"
   ]
  },
  {
   "cell_type": "code",
   "execution_count": 6,
   "metadata": {},
   "outputs": [],
   "source": [
    "#function to get the all the unique values of all the attributes as potential splits of the dataset\n",
    "def get_potential_splits(data):\n",
    "    \n",
    "    potential_splits = {}\n",
    "    _, n_columns = data.shape\n",
    "    for column_index in range(n_columns - 1):\n",
    "        values = data[:, column_index]\n",
    "        unique_values = np.unique(values)\n",
    "        \n",
    "        potential_splits[column_index] = unique_values\n",
    "    \n",
    "    return potential_splits"
   ]
  },
  {
   "cell_type": "code",
   "execution_count": 7,
   "metadata": {},
   "outputs": [],
   "source": [
    "#function to split a dataset based on a given value of a given attribute\n",
    "def split_data(data, split_column, split_value):\n",
    "    \n",
    "    split_column_values = data[:, split_column]\n",
    "    data_below = data[split_column_values == split_value]\n",
    "    data_above = data[split_column_values != split_value]\n",
    "    \n",
    "    return data_below, data_above"
   ]
  },
  {
   "cell_type": "code",
   "execution_count": 8,
   "metadata": {},
   "outputs": [],
   "source": [
    "#function to determine entropy of the dataset\n",
    "def calculate_entropy(data):\n",
    "    \n",
    "    label_column = data[:, -1]\n",
    "    _, counts = np.unique(label_column, return_counts = True)\n",
    "\n",
    "    probabilities = counts / counts.sum()\n",
    "    entropy = sum(probabilities * -np.log2(probabilities))\n",
    "     \n",
    "    return entropy"
   ]
  },
  {
   "cell_type": "code",
   "execution_count": 9,
   "metadata": {},
   "outputs": [],
   "source": [
    "#function to calculate the total entropy of the split dataset\n",
    "def calculate_overall_entropy(data_below, data_above):\n",
    "    \n",
    "    n = len(data_below) + len(data_above)\n",
    "    p_data_below = len(data_below) / n\n",
    "    p_data_above = len(data_above) / n\n",
    "\n",
    "    overall_entropy =  (p_data_below * calculate_entropy(data_below) \n",
    "                      + p_data_above * calculate_entropy(data_above))\n",
    "    \n",
    "    return overall_entropy"
   ]
  },
  {
   "cell_type": "code",
   "execution_count": 10,
   "metadata": {},
   "outputs": [],
   "source": [
    "#function to determine best attribute and its value for splitting the dataset \n",
    "def determine_best_split(data, potential_splits):\n",
    "    \n",
    "    overall_entropy = 9999\n",
    "    for column_index in potential_splits:\n",
    "        for value in potential_splits[column_index]:\n",
    "            data_below, data_above = split_data(data, split_column=column_index, split_value=value)\n",
    "            current_overall_entropy = calculate_overall_entropy(data_below, data_above)\n",
    "\n",
    "            if current_overall_entropy <= overall_entropy:\n",
    "                overall_entropy = current_overall_entropy\n",
    "                best_split_column = column_index\n",
    "                best_split_value = value\n",
    "    \n",
    "    return best_split_column, best_split_value"
   ]
  },
  {
   "cell_type": "markdown",
   "metadata": {},
   "source": [
    "# Function to build decision tree"
   ]
  },
  {
   "cell_type": "code",
   "execution_count": 11,
   "metadata": {},
   "outputs": [],
   "source": [
    "def decision_tree_algorithm(df, counter = 0, max_depth = 5):\n",
    "    \n",
    "    if counter == 0:\n",
    "        global COLUMN_HEADERS\n",
    "        COLUMN_HEADERS = df.columns\n",
    "        data = df.values\n",
    "    else:\n",
    "        data = df           \n",
    "    \n",
    "    \n",
    "    # base cases\n",
    "    if (check_purity(data)) or (counter == max_depth):\n",
    "        classification = classify_data(data)\n",
    "        return classification\n",
    "\n",
    "    \n",
    "    # recursive part\n",
    "    else:    \n",
    "        counter += 1\n",
    "\n",
    "        # helper functions \n",
    "        potential_splits = get_potential_splits(data)\n",
    "        split_column, split_value = determine_best_split(data, potential_splits)\n",
    "        data_below, data_above = split_data(data, split_column, split_value)\n",
    "        \n",
    "        # check for empty data\n",
    "        if len(data_below) == 0 or len(data_above) == 0:\n",
    "            classification = classify_data(data)\n",
    "            return classification\n",
    "        \n",
    "        # determine question\n",
    "        feature_name = COLUMN_HEADERS[split_column]\n",
    "        \n",
    "        question = \"{} = {}\".format(feature_name, split_value)\n",
    "        \n",
    "        # instantiate sub-tree\n",
    "        sub_tree = {question: []}\n",
    "        \n",
    "        # find answers (recursion)\n",
    "        yes_answer = decision_tree_algorithm(data_below, counter, max_depth)\n",
    "        no_answer = decision_tree_algorithm(data_above, counter, max_depth)\n",
    "        \n",
    "        # If the answers are the same, then there is no point in asking the qestion.\n",
    "        # This could happen when the data is classified even though it is not pure\n",
    "        # yet (min_samples or max_depth base case).\n",
    "        \n",
    "        if yes_answer == no_answer:\n",
    "            sub_tree = yes_answer\n",
    "        else:\n",
    "            sub_tree[question].append(yes_answer)\n",
    "            sub_tree[question].append(no_answer)\n",
    "        \n",
    "        return sub_tree"
   ]
  },
  {
   "cell_type": "markdown",
   "metadata": {},
   "source": [
    "# Accuracy Calculations"
   ]
  },
  {
   "cell_type": "code",
   "execution_count": 12,
   "metadata": {},
   "outputs": [],
   "source": [
    "#function to classify a single new example using a given decision tree\n",
    "def classify_example(example, tree):\n",
    "    question = list(tree.keys())[0]\n",
    "    feature_name, comparison_operator, value = question.split(\" \")\n",
    "\n",
    "    if str(example[feature_name]) == value:\n",
    "        answer = tree[question][0]\n",
    "    else:\n",
    "        answer = tree[question][1]\n",
    "\n",
    "    # base case\n",
    "    if not isinstance(answer, dict):\n",
    "        return answer\n",
    "    \n",
    "    # recursive part\n",
    "    else:\n",
    "        residual_tree = answer\n",
    "        return classify_example(example, residual_tree)"
   ]
  },
  {
   "cell_type": "code",
   "execution_count": 13,
   "metadata": {},
   "outputs": [],
   "source": [
    "#function to calculate accuracy of tree on the given test set\n",
    "def calculate_accuracy(df, tree):\n",
    "    \n",
    "    if(isinstance(tree, str)):\n",
    "        total_examples = df.shape[0]\n",
    "        matching_examples = df[df[\"label\"] == tree][\"label\"].shape[0]\n",
    "        accuracy = matching_examples / total_examples\n",
    "    else:    \n",
    "        df[\"classification\"] = df.apply(classify_example, axis = 1, args = (tree,))\n",
    "        df[\"classification_correct\"] = df[\"classification\"] == df[\"label\"]\n",
    "\n",
    "        accuracy = df[\"classification_correct\"].mean()\n",
    "    \n",
    "    return accuracy"
   ]
  },
  {
   "cell_type": "markdown",
   "metadata": {},
   "source": [
    "# Helper functions to post-prune a decision tree"
   ]
  },
  {
   "cell_type": "code",
   "execution_count": 14,
   "metadata": {},
   "outputs": [],
   "source": [
    "#function to classify a single new example using a given decision tree\n",
    "def predict_example(example, tree):\n",
    "    \n",
    "    # tree is just a root node\n",
    "    if not isinstance(tree, dict):\n",
    "        return tree\n",
    "    \n",
    "    question = list(tree.keys())[0]\n",
    "    feature_name, comparison_operator, value = question.split(\" \")\n",
    "\n",
    "    # ask question\n",
    "    if comparison_operator == \"<=\":\n",
    "        if example[feature_name] <= float(value):\n",
    "            answer = tree[question][0]\n",
    "        else:\n",
    "            answer = tree[question][1]\n",
    "    \n",
    "    # feature is categorical\n",
    "    else:\n",
    "        if str(example[feature_name]) == value:\n",
    "            answer = tree[question][0]\n",
    "        else:\n",
    "            answer = tree[question][1]\n",
    "\n",
    "    # base case\n",
    "    if not isinstance(answer, dict):\n",
    "        return answer\n",
    "    \n",
    "    # recursive part\n",
    "    else:\n",
    "        residual_tree = answer\n",
    "        return predict_example(example, residual_tree)"
   ]
  },
  {
   "cell_type": "code",
   "execution_count": 15,
   "metadata": {},
   "outputs": [],
   "source": [
    "#function to classify a test set based on the given decision tree\n",
    "def make_predictions(df, tree):\n",
    "    \n",
    "    if len(df) != 0:\n",
    "        predictions = df.apply(predict_example, args = (tree,), axis = 1)\n",
    "    else:\n",
    "        predictions = pd.Series([], dtype = pd.StringDtype())\n",
    "        \n",
    "    return predictions\n"
   ]
  },
  {
   "cell_type": "code",
   "execution_count": 16,
   "metadata": {},
   "outputs": [],
   "source": [
    "def filter_df(df, question):\n",
    "    feature, comparison_operator, value = question.split()\n",
    "\n",
    "    df_yes = df[df[feature].astype(str) == value]\n",
    "    df_no  = df[df[feature].astype(str) != value]\n",
    "    \n",
    "    return df_yes, df_no"
   ]
  },
  {
   "cell_type": "code",
   "execution_count": 17,
   "metadata": {},
   "outputs": [],
   "source": [
    "def determine_leaf(df_train):\n",
    "    return df_train.label.value_counts().index[0]"
   ]
  },
  {
   "cell_type": "code",
   "execution_count": 18,
   "metadata": {},
   "outputs": [],
   "source": [
    "def determine_errors(df_val, tree):\n",
    "    predictions = make_predictions(df_val, tree)\n",
    "    actual_values = df_val.label\n",
    "    \n",
    "    return sum(predictions != actual_values)"
   ]
  },
  {
   "cell_type": "code",
   "execution_count": 19,
   "metadata": {},
   "outputs": [],
   "source": [
    "def pruning_result(tree, df_train, df_val):\n",
    "    \n",
    "    leaf = determine_leaf(df_train)\n",
    "    errors_leaf = determine_errors(df_val, leaf)\n",
    "    errors_decision_node = determine_errors(df_val, tree)\n",
    "\n",
    "    if errors_leaf <= errors_decision_node:\n",
    "        return leaf\n",
    "    else:\n",
    "        return tree"
   ]
  },
  {
   "cell_type": "markdown",
   "metadata": {},
   "source": [
    "# Function to post-prune a decision tree"
   ]
  },
  {
   "cell_type": "code",
   "execution_count": 20,
   "metadata": {},
   "outputs": [],
   "source": [
    "#function to post-prune a given tree using given train and cross validation set\n",
    "def post_pruning(tree, df_train, df_val):\n",
    "    \n",
    "    question = list(tree.keys())[0]\n",
    "    yes_answer, no_answer = tree[question]\n",
    "\n",
    "    # base case\n",
    "    if not isinstance(yes_answer, dict) and not isinstance(no_answer, dict):\n",
    "        return pruning_result(tree, df_train, df_val)\n",
    "        \n",
    "    # recursive part\n",
    "    else:\n",
    "        df_train_yes, df_train_no = filter_df(df_train, question)\n",
    "        df_val_yes, df_val_no = filter_df(df_val, question)\n",
    "        \n",
    "        if isinstance(yes_answer, dict):\n",
    "            yes_answer = post_pruning(yes_answer, df_train_yes, df_val_yes)\n",
    "            \n",
    "        if isinstance(no_answer, dict):\n",
    "            no_answer = post_pruning(no_answer, df_train_no, df_val_no)\n",
    "        \n",
    "        tree = {question: [yes_answer, no_answer]}\n",
    "    \n",
    "        return pruning_result(tree, df_train, df_val)"
   ]
  },
  {
   "cell_type": "markdown",
   "metadata": {},
   "source": [
    "# Loading and preparing data"
   ]
  },
  {
   "cell_type": "code",
   "execution_count": 21,
   "metadata": {
    "scrolled": false
   },
   "outputs": [],
   "source": [
    "df = pd.read_csv(\"breast-cancer.data\", names = ['Class','age','menopause','tumor_size','inv_nodes','node_caps','deg_malig','breast','breast_quad','irradiat'])\n",
    "df[\"label\"] = df.Class\n",
    "df = df.drop([\"Class\"], axis = 1)\n",
    "\n",
    "mode_node_caps = df.node_caps.mode()[0]\n",
    "mode_breast_quad = df.breast_quad.mode()[0]\n",
    "\n",
    "df['node_caps'] = df['node_caps'].replace(['?'], mode_node_caps)\n",
    "df['breast_quad'] = df['breast_quad'].replace(['?'], mode_breast_quad)"
   ]
  },
  {
   "cell_type": "markdown",
   "metadata": {},
   "source": [
    "# Creating 10 random 60/20/20 splits on the dataset"
   ]
  },
  {
   "cell_type": "code",
   "execution_count": 22,
   "metadata": {},
   "outputs": [],
   "source": [
    "train_set, cv_set, test_set = [], [], []\n",
    "\n",
    "for i in range(10):\n",
    "    train, cv, test = train_cv_test_split(df, 60, 20)\n",
    "    train_set.append(train)\n",
    "    cv_set.append(cv)\n",
    "    test_set.append(test)"
   ]
  },
  {
   "cell_type": "markdown",
   "metadata": {},
   "source": [
    "# Building tree and calculating accuracy"
   ]
  },
  {
   "cell_type": "code",
   "execution_count": 23,
   "metadata": {
    "scrolled": false
   },
   "outputs": [
    {
     "name": "stdout",
     "output_type": "stream",
     "text": [
      "Accuracy of split no.  1  =  0.7931034482758621\n",
      "Accuracy of split no.  2  =  0.7241379310344828\n",
      "Accuracy of split no.  3  =  0.7586206896551724\n",
      "Accuracy of split no.  4  =  0.603448275862069\n",
      "Accuracy of split no.  5  =  0.7931034482758621\n",
      "Accuracy of split no.  6  =  0.8275862068965517\n",
      "Accuracy of split no.  7  =  0.6896551724137931\n",
      "Accuracy of split no.  8  =  0.7413793103448276\n",
      "Accuracy of split no.  9  =  0.6379310344827587\n",
      "Accuracy of split no.  10  =  0.7931034482758621\n"
     ]
    }
   ],
   "source": [
    "# evaluating average accuracy over 10 random 60/20/20 splits\n",
    "mean_accuracy = 0.0\n",
    "best_accuracy = 0.0\n",
    "best_accuracy_index = 0\n",
    "\n",
    "for i in range(10):\n",
    "    if MAX_DEPTH != -1:\n",
    "        tree = decision_tree_algorithm(train_set[i], max_depth = MAX_DEPTH)\n",
    "    else:\n",
    "        tree = decision_tree_algorithm(train_set[i], max_depth = 10000000)\n",
    "    accuracy = calculate_accuracy(test_set[i], tree)\n",
    "    \n",
    "    if(best_accuracy <= accuracy):\n",
    "        best_accuracy = accuracy\n",
    "        best_accuracy_index = i\n",
    "    \n",
    "    print(\"Accuracy of split no. \", i + 1, \" = \", accuracy)\n",
    "    mean_accuracy += accuracy"
   ]
  },
  {
   "cell_type": "code",
   "execution_count": 24,
   "metadata": {},
   "outputs": [
    {
     "name": "stdout",
     "output_type": "stream",
     "text": [
      "Average accuracy =  0.7362068965517242\n"
     ]
    }
   ],
   "source": [
    "print(\"Average accuracy = \", mean_accuracy / 10)"
   ]
  },
  {
   "cell_type": "markdown",
   "metadata": {},
   "source": [
    "# Best depth limit calculation"
   ]
  },
  {
   "cell_type": "code",
   "execution_count": 25,
   "metadata": {},
   "outputs": [],
   "source": [
    "depths = range(1, 16)\n",
    "accuracies = []\n",
    "\n",
    "for depth in depths:\n",
    "    tree = decision_tree_algorithm(train_set[best_accuracy_index], max_depth = depth)\n",
    "    \n",
    "    accuracy = calculate_accuracy(test_set[best_accuracy_index], tree)\n",
    "    accuracies.append(accuracy)"
   ]
  },
  {
   "cell_type": "code",
   "execution_count": 26,
   "metadata": {
    "scrolled": true
   },
   "outputs": [
    {
     "data": {
      "text/plain": [
       "[<matplotlib.lines.Line2D at 0x1eb83ad9cd0>]"
      ]
     },
     "execution_count": 26,
     "metadata": {},
     "output_type": "execute_result"
    },
    {
     "data": {
      "image/png": "[encoded data removed]",
      "text/plain": [
       "<Figure size 432x288 with 1 Axes>"
      ]
     },
     "metadata": {
      "needs_background": "light"
     },
     "output_type": "display_data"
    }
   ],
   "source": [
    "# Plotting graph for accuracy v/s depth to find best possible split\n",
    "plt.xlabel(\"depths\")\n",
    "plt.ylabel(\"accuracy\")\n",
    "plt.title(\"accuracy v/s depth\")\n",
    "plt.plot(depths, accuracies)"
   ]
  },
  {
   "cell_type": "markdown",
   "metadata": {},
   "source": [
    "# Post-pruning tree"
   ]
  },
  {
   "cell_type": "code",
   "execution_count": 27,
   "metadata": {},
   "outputs": [],
   "source": [
    "# finding the depth at which we have maximum accuracy\n",
    "optimal_accuracy = 0;\n",
    "optimal_depth = 0;\n",
    "\n",
    "for depth in depths:\n",
    "    if(accuracies[depth - 1] > optimal_accuracy):\n",
    "        optimal_accuracy = accuracies[depth - 1]\n",
    "        optimal_depth = depth\n",
    "        \n",
    "# tree obtained from part 2 having maximum accuracy in the graph is evaluated here\n",
    "tree = decision_tree_algorithm(train_set[best_accuracy_index], max_depth = optimal_depth)"
   ]
  },
  {
   "cell_type": "code",
   "execution_count": 28,
   "metadata": {
    "scrolled": true
   },
   "outputs": [
    {
     "name": "stdout",
     "output_type": "stream",
     "text": [
      "The tree without pruning\n",
      "{'deg_malig = 3': [{'inv_nodes = 0-2': [{'breast_quad = right_up': ['recurrence-events',\n",
      "                                                                    'no-recurrence-events']},\n",
      "                                        'recurrence-events']},\n",
      "                   'no-recurrence-events']}\n"
     ]
    }
   ],
   "source": [
    "print(\"The tree without pruning\")\n",
    "pprint(tree, width = 50)"
   ]
  },
  {
   "cell_type": "code",
   "execution_count": 29,
   "metadata": {},
   "outputs": [
    {
     "name": "stdout",
     "output_type": "stream",
     "text": [
      "Accuracy without pruning: 0.8448275862068966\n"
     ]
    }
   ],
   "source": [
    "print(\"Accuracy without pruning:\", calculate_accuracy(test_set[best_accuracy_index], tree))"
   ]
  },
  {
   "cell_type": "code",
   "execution_count": 30,
   "metadata": {},
   "outputs": [],
   "source": [
    "tree_pruned = post_pruning(tree, train_set[best_accuracy_index], cv_set[best_accuracy_index])"
   ]
  },
  {
   "cell_type": "markdown",
   "metadata": {},
   "source": [
    "# Final pruned tree"
   ]
  },
  {
   "cell_type": "code",
   "execution_count": 31,
   "metadata": {},
   "outputs": [
    {
     "name": "stdout",
     "output_type": "stream",
     "text": [
      "Accuracy with pruning: 0.8275862068965517\n"
     ]
    }
   ],
   "source": [
    "print(\"Accuracy with pruning:\", calculate_accuracy(test_set[best_accuracy_index], tree_pruned))"
   ]
  },
  {
   "cell_type": "code",
   "execution_count": 32,
   "metadata": {},
   "outputs": [
    {
     "name": "stdout",
     "output_type": "stream",
     "text": [
      "The final decision tree is\n",
      "{'deg_malig = 3': [{'inv_nodes = 0-2': ['no-recurrence-events',\n",
      "                                        'recurrence-events']},\n",
      "                   'no-recurrence-events']}\n"
     ]
    }
   ],
   "source": [
    "print(\"The final decision tree is\")\n",
    "pprint(tree_pruned, width = 50)"
   ]
  },
  {
   "cell_type": "code",
   "execution_count": null,
   "metadata": {},
   "outputs": [],
   "source": []
  },
  {
   "cell_type": "code",
   "execution_count": null,
   "metadata": {},
   "outputs": [],
   "source": []
  }
 ],
 "metadata": {
  "kernelspec": {
   "display_name": "Python 3",
   "language": "python",
   "name": "python3"
  },
  "language_info": {
   "codemirror_mode": {
    "name": "ipython",
    "version": 3
   },
   "file_extension": ".py",
   "mimetype": "text/x-python",
   "name": "python",
   "nbconvert_exporter": "python",
   "pygments_lexer": "ipython3",
   "version": "3.8.3"
  }
 },
 "nbformat": 4,
 "nbformat_minor": 2
}
